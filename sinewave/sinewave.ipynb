{
 "cells": [
  {
   "cell_type": "markdown",
   "metadata": {},
   "source": [
    "#### This is using Keras\n",
    "The data is a sine wave  \n",
    "Tutorial comes from here: https://github.com/jaungiers/LSTM-Neural-Network-for-Time-Series-Prediction"
   ]
  },
  {
   "cell_type": "markdown",
   "metadata": {},
   "source": [
    "###### TODO  \n",
    "Try Seasonality time series  \n",
    "Try OutFront Media data  \n",
    "Try normalizing the input  \n",
    "Try tweaking the parameters"
   ]
  },
  {
   "cell_type": "code",
   "execution_count": 1,
   "metadata": {},
   "outputs": [],
   "source": [
    "from __future__ import print_function, division\n",
    "import numpy as np\n",
    "import pandas as pd\n",
    "import tensorflow as tf\n",
    "import json\n",
    "import matplotlib.pyplot as plt\n",
    "\n",
    "from config import getConfig\n",
    "import metrics"
   ]
  },
  {
   "cell_type": "code",
   "execution_count": 2,
   "metadata": {},
   "outputs": [],
   "source": [
    "def preProcess(df, cfg):\n",
    "    ''' incoming data is a single column dataframe. Create numpy arrays of train/test sets'''\n",
    "    arr = df['sinewave'].to_numpy()\n",
    "    train, test = splitTrainTest(arr, cfg)\n",
    "    return train, test"
   ]
  },
  {
   "cell_type": "code",
   "execution_count": 3,
   "metadata": {},
   "outputs": [],
   "source": [
    "def splitTrainTest(X, cfg):\n",
    "    testPct=cfg['testPct']\n",
    "    trainSize = int(X.shape[0]*(1-testPct))\n",
    "    trainX = X[:trainSize]\n",
    "    testX = X[trainSize:]\n",
    "    assert trainX.shape[0] + testX.shape[0] == X.shape[0], 'rows are not properly split'\n",
    "    return trainX, testX"
   ]
  },
  {
   "cell_type": "code",
   "execution_count": 4,
   "metadata": {},
   "outputs": [],
   "source": [
    "def splitXY(data, cfg):\n",
    "    # Chop data into many sequences of length seqLength\n",
    "    # Shift data by 1 to get a new sequence\n",
    "    # The last element of each sequence is the label\n",
    "    seqLength=cfg['sequence_length']\n",
    "    numSeq = len(data) - seqLength\n",
    "    X=[]\n",
    "    Y=[]\n",
    "    for n in range(numSeq):\n",
    "        seq = data[n:n+seqLength]\n",
    "        X.append(seq[:-1])\n",
    "        Y.append(seq[-1])\n",
    "    \n",
    "    assert len(X)== len(Y), 'X and Y array lengths are not equal'\n",
    "    return np.array(X), np.array(Y)"
   ]
  },
  {
   "cell_type": "code",
   "execution_count": 5,
   "metadata": {},
   "outputs": [],
   "source": [
    "def formatData(trainX, trainY, cfg):\n",
    "    trainX  = np.reshape(trainX, newshape=[-1, cfg['sequence_length']-1,1])\n",
    "    trainY = np.reshape(trainY, newshape=[-1, 1])\n",
    "    return trainX, trainY"
   ]
  },
  {
   "cell_type": "code",
   "execution_count": 6,
   "metadata": {},
   "outputs": [],
   "source": [
    "def trainModel(modelCfg):\n",
    "    model = tf.keras.Sequential()\n",
    "    model = build_model(model, modelCfg)\n",
    "    return model"
   ]
  },
  {
   "cell_type": "code",
   "execution_count": 7,
   "metadata": {},
   "outputs": [],
   "source": [
    "def build_model(model, modelCfg):\n",
    "    for layer in modelCfg['layers']:\n",
    "        neurons = layer['neurons'] if 'neurons' in layer else None\n",
    "        dropout_rate = layer['rate'] if 'rate' in layer else None\n",
    "        activation = layer['activation'] if 'activation' in layer else None\n",
    "        return_seq = layer['return_seq'] if 'return_seq' in layer else None\n",
    "        input_timesteps = layer['input_timesteps']-1 if 'input_timesteps' in layer else None\n",
    "        input_dim = layer['input_dim'] if 'input_dim' in layer else None\n",
    "\n",
    "        if layer['type'] == 'dense':\n",
    "            model.add(tf.keras.layers.Dense(neurons, activation=activation))\n",
    "        if layer['type'] == 'lstm':\n",
    "            model.add(tf.keras.layers.LSTM(neurons, input_shape=(input_timesteps, input_dim), return_sequences=return_seq))\n",
    "        if layer['type'] == 'dropout':\n",
    "            model.add(tf.keras.layers.Dropout(dropout_rate))\n",
    "            \n",
    "    model.compile(loss=modelCfg['loss'], optimizer=modelCfg['optimizer'])\n",
    "    print('Model compiled')\n",
    "    return model"
   ]
  },
  {
   "cell_type": "code",
   "execution_count": 8,
   "metadata": {},
   "outputs": [],
   "source": [
    "cfg = getConfig()\n",
    "modelCfg = json.load(open('modelConfig.json', 'r'))"
   ]
  },
  {
   "cell_type": "code",
   "execution_count": 21,
   "metadata": {},
   "outputs": [],
   "source": [
    "df = pd.read_csv(cfg['dataLoc']+cfg['fileName'])\n",
    "train, test = preProcess(df, cfg)\n",
    "trainX, trainY = splitXY(train, cfg)\n",
    "testX, testY = splitXY(test, cfg)\n",
    "\n",
    "trainX, trainY = formatData(trainX, trainY, cfg)"
   ]
  },
  {
   "cell_type": "code",
   "execution_count": 22,
   "metadata": {},
   "outputs": [
    {
     "name": "stdout",
     "output_type": "stream",
     "text": [
      "Model compiled\n",
      "Epoch 1/3\n",
      "124/124 [==============================] - 14s 114ms/step - loss: 0.0214\n",
      "Epoch 2/3\n",
      "124/124 [==============================] - 14s 116ms/step - loss: 0.0032\n",
      "Epoch 3/3\n",
      "124/124 [==============================] - 14s 116ms/step - loss: 0.0027\n",
      "final loss: 0.003\n"
     ]
    }
   ],
   "source": [
    "model = trainModel(modelCfg)\n",
    "model.fit(x=trainX, y=trainY, epochs= cfg[\"epochs\"], batch_size = cfg[\"batchSize\"], shuffle=True)\n",
    "print(\"final loss: {:.3f}\".format(model.history.history['loss'][-1]))"
   ]
  },
  {
   "cell_type": "code",
   "execution_count": 23,
   "metadata": {},
   "outputs": [
    {
     "data": {
      "text/plain": [
       "<tensorflow.python.keras.engine.sequential.Sequential at 0x7f81c5ec8898>"
      ]
     },
     "execution_count": 23,
     "metadata": {},
     "output_type": "execute_result"
    }
   ],
   "source": [
    "model"
   ]
  },
  {
   "cell_type": "code",
   "execution_count": 16,
   "metadata": {},
   "outputs": [],
   "source": [
    "testX = test[:cfg['sequence_length']-1]\n",
    "\n",
    "testX = np.expand_dims(testX, axis=1)\n",
    "testX = np.expand_dims(testX, axis=0)"
   ]
  },
  {
   "cell_type": "code",
   "execution_count": 17,
   "metadata": {},
   "outputs": [],
   "source": [
    "predList = []\n",
    "testLength = 100\n",
    "for _ in range(testLength):\n",
    "    predictions = model.predict(testX)\n",
    "    predList.append(predictions[0][0])\n",
    "    testX = np.roll(testX, -1)\n",
    "    testX[0,-1,0] = predictions[0]"
   ]
  },
  {
   "cell_type": "code",
   "execution_count": 18,
   "metadata": {},
   "outputs": [],
   "source": [
    "# Get the actual values\n",
    "testY = test[cfg['sequence_length']-1:cfg['sequence_length']-1+testLength]"
   ]
  },
  {
   "cell_type": "code",
   "execution_count": 19,
   "metadata": {},
   "outputs": [
    {
     "name": "stdout",
     "output_type": "stream",
     "text": [
      "MAPE for the first 100 predictions is 194.00%\n"
     ]
    }
   ],
   "source": [
    "# calculate the error\n",
    "mape = metrics.calcMAPE(testY, predList)\n",
    "n = len(predList)\n",
    "print(\"MAPE for the first {} predictions is {:.2%}\".format(n, mape))"
   ]
  },
  {
   "cell_type": "code",
   "execution_count": 20,
   "metadata": {},
   "outputs": [
    {
     "data": {
      "image/png": "[encoded data removed]",
      "text/plain": [
       "<Figure size 432x288 with 1 Axes>"
      ]
     },
     "metadata": {
      "needs_background": "light"
     },
     "output_type": "display_data"
    }
   ],
   "source": [
    "plt.plot(predList, color='r', label='prediciton')\n",
    "plt.plot(testY, color='b', label=\"actual\")\n",
    "plt.legend()\n",
    "plt.show()"
   ]
  },
  {
   "cell_type": "code",
   "execution_count": 47,
   "metadata": {},
   "outputs": [
    {
     "data": {
      "text/plain": [
       "\"gen = tf.keras.preprocessing.sequence.TimeseriesGenerator(\\n    data=X,\\n    targets=Y,\\n    length=seqLength,\\n    stride=1,\\n    batch_size=cfg['batchSize'],\\n    shuffle=False)\""
      ]
     },
     "execution_count": 47,
     "metadata": {},
     "output_type": "execute_result"
    }
   ],
   "source": [
    "'''gen = tf.keras.preprocessing.sequence.TimeseriesGenerator(\n",
    "    data=X,\n",
    "    targets=Y,\n",
    "    length=seqLength,\n",
    "    stride=1,\n",
    "    batch_size=cfg['batchSize'],\n",
    "    shuffle=False)'''"
   ]
  },
  {
   "cell_type": "code",
   "execution_count": null,
   "metadata": {},
   "outputs": [],
   "source": []
  }
 ],
 "metadata": {
  "kernelspec": {
   "display_name": "Python 3",
   "language": "python",
   "name": "python3"
  },
  "language_info": {
   "codemirror_mode": {
    "name": "ipython",
    "version": 3
   },
   "file_extension": ".py",
   "mimetype": "text/x-python",
   "name": "python",
   "nbconvert_exporter": "python",
   "pygments_lexer": "ipython3",
   "version": "3.6.12"
  }
 },
 "nbformat": 4,
 "nbformat_minor": 2
}
