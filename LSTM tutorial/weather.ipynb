{
 "cells": [
  {
   "cell_type": "markdown",
   "metadata": {},
   "source": [
    "#### This is using Keras  \n",
    "Tutorial comes from here: https://www.tensorflow.org/tutorials/structured_data/time_series"
   ]
  },
  {
   "cell_type": "code",
   "execution_count": 1,
   "metadata": {},
   "outputs": [],
   "source": [
    "from __future__ import print_function, division\n",
    "import numpy as np\n",
    "import pandas as pd\n",
    "import tensorflow as tf\n",
    "import json\n",
    "from sklearn.preprocessing import StandardScaler, MinMaxScaler\n",
    "import matplotlib.pyplot as plt\n",
    "\n",
    "from config import getConfig\n",
    "import metrics\n",
    "from preProcessor import preProcess\n",
    "from plots import plotWind, plotTime, plotDistribution\n",
    "from identify_seasonality import getFreq\n",
    "from setPandasOptions import setPandasOptions\n",
    "from getHighCorr import getHighCorr\n",
    "from batchGenerator import getBatch"
   ]
  },
  {
   "cell_type": "code",
   "execution_count": 2,
   "metadata": {},
   "outputs": [],
   "source": [
    "def splitData(df):\n",
    "    n = len(df)\n",
    "    trainIdx = int(n*0.7)\n",
    "    valIdx = int(n*0.9)\n",
    "    train = df[0:trainIdx]\n",
    "    val = df[trainIdx:valIdx]\n",
    "    test = df[valIdx:]\n",
    "    return train, val, test"
   ]
  },
  {
   "cell_type": "code",
   "execution_count": 3,
   "metadata": {},
   "outputs": [],
   "source": [
    "def normalize(train, val, test):\n",
    "    train_mean = train.mean()\n",
    "    train_std = train.std()\n",
    "    print(\"avg: \", train_mean['temp'])\n",
    "    print(\"std: \", train_std['temp'])\n",
    "    \n",
    "    train = (train - train_mean) / train_std\n",
    "    val = (val - train_mean) / train_std\n",
    "    test = (test - train_mean) / train_std\n",
    "    return train, val, test"
   ]
  },
  {
   "cell_type": "code",
   "execution_count": 4,
   "metadata": {},
   "outputs": [],
   "source": [
    "def plot(preds, actuals):\n",
    "    fig, ax = plt.subplots(figsize=(12, 3))\n",
    "    plt.plot(preds, c='r', label='Prediction')\n",
    "    plt.plot(actuals, c='g', label='Actuals')\n",
    "    plt.legend()\n",
    "    plt.show()"
   ]
  },
  {
   "cell_type": "code",
   "execution_count": 5,
   "metadata": {},
   "outputs": [],
   "source": [
    "setPandasOptions()\n",
    "cfg = getConfig()\n",
    "modelCfg = json.load(open('modelConfig.json', 'r'))"
   ]
  },
  {
   "cell_type": "code",
   "execution_count": 6,
   "metadata": {},
   "outputs": [],
   "source": [
    "df = pd.read_csv(cfg['dataLoc']+cfg['fileName'])"
   ]
  },
  {
   "cell_type": "code",
   "execution_count": 7,
   "metadata": {},
   "outputs": [],
   "source": [
    "# Identify highly correlated columns and remove one of them\n",
    "'''correlatedCols = getHighCorr(df, 0.94)\n",
    "for cols, coeff in correlatedCols:\n",
    "    print(\"{:<20}{:<20}{:<.3f}\".format(cols[0], cols[1], coeff))'''\n",
    "\n",
    "removeCols = ['H2OC (mmol/mol)', 'Tpot (K)', 'sh (g/kg)', 'VPact (mbar)', 'rho (g/m**3)',\n",
    "              'VPmax (mbar)', 'max. wv (m/s)']\n",
    "for col in removeCols:\n",
    "    del df[col]"
   ]
  },
  {
   "cell_type": "code",
   "execution_count": 8,
   "metadata": {},
   "outputs": [
    {
     "name": "stdout",
     "output_type": "stream",
     "text": [
      "350,460 rows removed due to sampling\n"
     ]
    }
   ],
   "source": [
    "df = preProcess(df, cfg)"
   ]
  },
  {
   "cell_type": "code",
   "execution_count": 9,
   "metadata": {},
   "outputs": [],
   "source": [
    "#plotWind(df)\n",
    "#plotTime(df)\n",
    "#getFreq(df)"
   ]
  },
  {
   "cell_type": "code",
   "execution_count": 10,
   "metadata": {},
   "outputs": [
    {
     "name": "stdout",
     "output_type": "stream",
     "text": [
      "avg:  9.108195\n",
      "std:  8.65495\n"
     ]
    }
   ],
   "source": [
    "train, val, test = splitData(df)\n",
    "svTrain = train.copy()\n",
    "train, val, test = normalize(train, val, test)"
   ]
  },
  {
   "cell_type": "code",
   "execution_count": 11,
   "metadata": {},
   "outputs": [
    {
     "data": {
      "text/plain": [
       "'correlatedCols = getHighCorr(train, 0.9)\\nfor cols, coeff in correlatedCols:\\n    print(\"{:<20}{:<20}{:<.3f}\".format(cols[0], cols[1], coeff))'"
      ]
     },
     "execution_count": 11,
     "metadata": {},
     "output_type": "execute_result"
    }
   ],
   "source": [
    "'''correlatedCols = getHighCorr(train, 0.9)\n",
    "for cols, coeff in correlatedCols:\n",
    "    print(\"{:<20}{:<20}{:<.3f}\".format(cols[0], cols[1], coeff))'''"
   ]
  },
  {
   "cell_type": "code",
   "execution_count": 12,
   "metadata": {},
   "outputs": [],
   "source": [
    "#plotDistribution(df, svTrain)"
   ]
  },
  {
   "cell_type": "code",
   "execution_count": 20,
   "metadata": {},
   "outputs": [],
   "source": [
    "model = tf.keras.models.Sequential()\n",
    "\n",
    "l1 = tf.keras.layers.LSTM(32, return_sequences=False)\n",
    "l2 = tf.keras.layers.Dense(units=1)\n",
    "\n",
    "model.add(l1)\n",
    "model.add(l2)\n",
    "# Shape => [batch, time, features]    \n",
    "\n",
    "model.compile(loss='mean_squared_error', optimizer='adam')"
   ]
  },
  {
   "cell_type": "code",
   "execution_count": 21,
   "metadata": {
    "scrolled": true
   },
   "outputs": [
    {
     "name": "stdout",
     "output_type": "stream",
     "text": [
      "\n",
      "epoch #  1\n",
      "  16331/Unknown - 60s 4ms/step - loss: 0.0179\n",
      "epoch #  2\n",
      "  32669/Unknown - 120s 4ms/step - loss: 0.0126\n",
      "epoch #  3\n",
      "  49012/Unknown - 180s 4ms/step - loss: 0.0107\n",
      "epoch #  4\n",
      "65352/65352 [==============================] - 240s 4ms/step - loss: 0.0097\n",
      "[0.009663344360888004]\n"
     ]
    }
   ],
   "source": [
    "hist = model.fit(getBatch(train, False, 4), batch_size=None, verbose=1)\n",
    "print(hist.history['loss'])"
   ]
  },
  {
   "cell_type": "code",
   "execution_count": 22,
   "metadata": {},
   "outputs": [
    {
     "name": "stdout",
     "output_type": "stream",
     "text": [
      "\n",
      "epoch #  1\n"
     ]
    }
   ],
   "source": [
    "pred = model.predict(getBatch(test, True, 1))"
   ]
  },
  {
   "cell_type": "code",
   "execution_count": 23,
   "metadata": {},
   "outputs": [],
   "source": [
    "actuals = test['temp'][:-50]"
   ]
  },
  {
   "cell_type": "code",
   "execution_count": 24,
   "metadata": {},
   "outputs": [],
   "source": [
    "avg=  9.108195\n",
    "std=  8.65495\n",
    "\n",
    "pred = pred*std+avg\n",
    "actuals= actuals*std+avg\n",
    "actuals=actuals.reset_index(drop=True)"
   ]
  },
  {
   "cell_type": "code",
   "execution_count": 25,
   "metadata": {},
   "outputs": [
    {
     "name": "stdout",
     "output_type": "stream",
     "text": [
      "RMSE is 4.54\n",
      "MAPE is 77.00%\n"
     ]
    }
   ],
   "source": [
    "# calcMAPE blows up if any 0 values\n",
    "actuals[actuals==0]=0.1\n",
    "\n",
    "rmse = metrics.calcRMSE(actuals, pred)\n",
    "mape = metrics.calcMAPE(actuals, pred)\n",
    "print(\"RMSE is {:.2f}\".format(rmse))\n",
    "print(\"MAPE is {:.2%}\".format(mape))"
   ]
  },
  {
   "cell_type": "code",
   "execution_count": 26,
   "metadata": {},
   "outputs": [
    {
     "data": {
      "image/png": "[encoded data removed]",
      "text/plain": [
       "<Figure size 864x216 with 1 Axes>"
      ]
     },
     "metadata": {
      "needs_background": "light"
     },
     "output_type": "display_data"
    }
   ],
   "source": [
    "start=0\n",
    "length=200\n",
    "plot(pred[start:start+length], actuals[start:start+length])"
   ]
  },
  {
   "cell_type": "code",
   "execution_count": null,
   "metadata": {},
   "outputs": [],
   "source": []
  }
 ],
 "metadata": {
  "kernelspec": {
   "display_name": "Python 3",
   "language": "python",
   "name": "python3"
  },
  "language_info": {
   "codemirror_mode": {
    "name": "ipython",
    "version": 3
   },
   "file_extension": ".py",
   "mimetype": "text/x-python",
   "name": "python",
   "nbconvert_exporter": "python",
   "pygments_lexer": "ipython3",
   "version": "3.6.12"
  }
 },
 "nbformat": 4,
 "nbformat_minor": 2
}
